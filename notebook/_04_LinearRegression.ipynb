{
 "cells": [
  {
   "cell_type": "code",
   "execution_count": 1,
   "metadata": {
    "collapsed": false
   },
   "outputs": [],
   "source": [
    "import numpy as np\n",
    "import tensorflow as tf\n",
    "import matplotlib.pyplot as plt\n",
    "rng = np.random"
   ]
  },
  {
   "cell_type": "code",
   "execution_count": 2,
   "metadata": {
    "collapsed": false
   },
   "outputs": [],
   "source": [
    "# Training Data\n",
    "train_X = np.asarray([3.3,4.4,5.5,6.71,6.93,4.168,9.779,6.182,7.59,2.167,7.042,10.791,5.313,7.997,5.654,9.27,3.1])\n",
    "train_Y = np.asarray([1.7,2.76,2.09,3.19,1.694,1.573,3.366,2.596,2.53,1.221,2.827,3.465,1.65,2.904,2.42,2.94,1.3])\n",
    "\n",
    "n_samples = train_X.shape[0]"
   ]
  },
  {
   "cell_type": "code",
   "execution_count": 5,
   "metadata": {
    "collapsed": false
   },
   "outputs": [],
   "source": [
    "# graph inputs\n",
    "x = tf.placeholder(tf.float32)\n",
    "y = tf.placeholder(tf.float32)\n",
    "\n",
    "w = tf.Variable(rng.randn(),name='weight')\n",
    "b = tf.Variable(rng.randn(),name='bias')\n",
    "                \n",
    "y_ = tf.add(tf.mul(x,w),b)\n",
    "\n",
    "loss = tf.reduce_sum(tf.pow(y_ - y,2))/(2*n_samples)\n",
    "optimizer = tf.train.GradientDescentOptimizer(0.01).minimize(loss)"
   ]
  },
  {
   "cell_type": "code",
   "execution_count": null,
   "metadata": {
    "collapsed": true
   },
   "outputs": [],
   "source": []
  },
  {
   "cell_type": "code",
   "execution_count": 9,
   "metadata": {
    "collapsed": false
   },
   "outputs": [],
   "source": [
    "\n",
    "init = tf.initialize_all_variables()"
   ]
  },
  {
   "cell_type": "code",
   "execution_count": 12,
   "metadata": {
    "collapsed": false
   },
   "outputs": [
    {
     "name": "stdout",
     "output_type": "stream",
     "text": [
      "loss 0.0843822\n",
      "w 0.300585\n",
      "b 0.451798\n",
      "loss 0.0769308\n",
      "w 0.252423\n",
      "b 0.793217\n",
      "loss 0.0769288\n",
      "w 0.251648\n",
      "b 0.79871\n",
      "loss 0.0769288\n",
      "w 0.251639\n",
      "b 0.798776\n",
      "loss 0.0769288\n",
      "w 0.251639\n",
      "b 0.798776\n",
      "loss 0.0769288\n",
      "w 0.251639\n",
      "b 0.798776\n",
      "loss 0.0769288\n",
      "w 0.251639\n",
      "b 0.798776\n",
      "loss 0.0769288\n",
      "w 0.251639\n",
      "b 0.798776\n",
      "loss 0.0769288\n",
      "w 0.251639\n",
      "b 0.798776\n",
      "loss 0.0769288\n",
      "w 0.251639\n",
      "b 0.798776\n"
     ]
    }
   ],
   "source": [
    "with tf.Session() as sess:\n",
    "    sess.run(init)\n",
    "    #tf.initialize_all_variables().run()\n",
    "    \n",
    "    for i in range(2000):\n",
    "        for (xv,yv) in zip(train_X,train_Y):\n",
    "            sess.run(optimizer,{x:train_X,y:train_Y})\n",
    "        \n",
    "        if i % 200 == 0:\n",
    "            print 'loss',sess.run(loss,{x:train_X,y:train_Y})\n",
    "            print 'w',sess.run(w)\n",
    "            print 'b',sess.run(b)\n",
    "            \n",
    "            \n",
    "    plt.plot(train_X, train_Y, 'ro', label='Original data')\n",
    "    plt.plot(train_X, sess.run(w) * train_X + sess.run(b), label='Fitted line')\n",
    "    plt.legend()\n",
    "    plt.show()\n"
   ]
  },
  {
   "cell_type": "code",
   "execution_count": null,
   "metadata": {
    "collapsed": true
   },
   "outputs": [],
   "source": []
  }
 ],
 "metadata": {
  "kernelspec": {
   "display_name": "Python 2",
   "language": "python",
   "name": "python2"
  },
  "language_info": {
   "codemirror_mode": {
    "name": "ipython",
    "version": 2
   },
   "file_extension": ".py",
   "mimetype": "text/x-python",
   "name": "python",
   "nbconvert_exporter": "python",
   "pygments_lexer": "ipython2",
   "version": "2.7.6"
  }
 },
 "nbformat": 4,
 "nbformat_minor": 0
}
