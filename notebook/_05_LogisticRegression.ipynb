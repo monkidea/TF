{
 "cells": [
  {
   "cell_type": "code",
   "execution_count": 1,
   "metadata": {
    "collapsed": true
   },
   "outputs": [],
   "source": [
    "import tensorflow as tf\n",
    "import numpy as np"
   ]
  },
  {
   "cell_type": "code",
   "execution_count": 3,
   "metadata": {
    "collapsed": false
   },
   "outputs": [
    {
     "name": "stdout",
     "output_type": "stream",
     "text": [
      "Extracting ./MNIST_data/train-images-idx3-ubyte.gz\n",
      "Extracting ./MNIST_data/train-labels-idx1-ubyte.gz\n",
      "Extracting ./MNIST_data/t10k-images-idx3-ubyte.gz\n",
      "Extracting ./MNIST_data/t10k-labels-idx1-ubyte.gz\n"
     ]
    }
   ],
   "source": [
    "from tensorflow.examples.tutorials.mnist import input_data\n",
    "mnist = input_data.read_data_sets('./MNIST_data/',one_hot=True)"
   ]
  },
  {
   "cell_type": "code",
   "execution_count": 4,
   "metadata": {
    "collapsed": true
   },
   "outputs": [],
   "source": [
    "lr = 0.01; n_epochs = 25; batch_size = 100"
   ]
  },
  {
   "cell_type": "code",
   "execution_count": 5,
   "metadata": {
    "collapsed": true
   },
   "outputs": [],
   "source": [
    "x = tf.placeholder(tf.float32,[None,784])\n",
    "y = tf.placeholder(tf.float32,[None,10])"
   ]
  },
  {
   "cell_type": "code",
   "execution_count": 6,
   "metadata": {
    "collapsed": true
   },
   "outputs": [],
   "source": [
    "w = tf.Variable(tf.random_uniform([784,10]))\n",
    "b = tf.Variable(tf.random_uniform([10]))"
   ]
  },
  {
   "cell_type": "code",
   "execution_count": 7,
   "metadata": {
    "collapsed": true
   },
   "outputs": [],
   "source": [
    "# model\n",
    "y_ = tf.nn.softmax(tf.add( tf.matmul(x,w), b))"
   ]
  },
  {
   "cell_type": "code",
   "execution_count": 8,
   "metadata": {
    "collapsed": true
   },
   "outputs": [],
   "source": [
    "# loss \n",
    "loss = -tf.reduce_sum( y * tf.log(y_))\n",
    "# optimizer\n",
    "optimizer = tf.train.GradientDescentOptimizer(learning_rate=lr).minimize(loss)"
   ]
  },
  {
   "cell_type": "code",
   "execution_count": 10,
   "metadata": {
    "collapsed": false
   },
   "outputs": [
    {
     "name": "stdout",
     "output_type": "stream",
     "text": [
      "Epoch:  0\n",
      "avg cost :  33.1745446881\n",
      "Epoch:  1\n",
      "avg cost :  23.066145088\n",
      "Epoch:  2\n",
      "avg cost :  21.7176813342\n",
      "Epoch:  3\n",
      "avg cost :  21.1876472777\n",
      "Epoch:  4\n",
      "avg cost :  20.1595010697\n",
      "Epoch:  5\n",
      "avg cost :  20.6120095513\n",
      "Epoch:  6\n",
      "avg cost :  20.0094505483\n",
      "Epoch:  7\n",
      "avg cost :  19.9141234138\n",
      "Epoch:  8\n",
      "avg cost :  19.5133698377\n",
      "Epoch:  9\n",
      "avg cost :  19.297769113\n",
      "Epoch:  10\n",
      "avg cost :  19.1942505819\n",
      "Epoch:  11\n",
      "avg cost :  19.3577220544\n",
      "Epoch:  12\n",
      "avg cost :  18.7767130765\n",
      "Epoch:  13\n",
      "avg cost :  19.2759303726\n",
      "Epoch:  14\n",
      "avg cost :  18.5383252352\n",
      "Epoch:  15\n",
      "avg cost :  19.011555657\n",
      "Epoch:  16\n",
      "avg cost :  18.937953173\n",
      "Epoch:  17\n",
      "avg cost :  18.5216492211\n",
      "Epoch:  18\n",
      "avg cost :  18.6094861577\n",
      "Epoch:  19\n",
      "avg cost :  18.5572822051\n",
      "Epoch:  20\n",
      "avg cost :  18.5282773998\n",
      "Epoch:  21\n",
      "avg cost :  18.4351152411\n",
      "Epoch:  22\n",
      "avg cost :  18.2944603955\n",
      "Epoch:  23\n",
      "avg cost :  18.4200879955\n",
      "Epoch:  24\n",
      "avg cost :  17.9559501509\n"
     ]
    }
   ],
   "source": [
    "n_batches = mnist.train.num_examples/batch_size\n",
    "with tf.Session() as sess:\n",
    "    sess.run(tf.initialize_all_variables())\n",
    "    \n",
    "    for i in range(n_epochs):\n",
    "        avg_cost = 0\n",
    "        for j in range(n_batches):\n",
    "            batchX,batchY = mnist.train.next_batch(batch_size)\n",
    "            sess.run(optimizer,{x:batchX,y:batchY})\n",
    "            avg_cost += sess.run(loss,{x:batchX,y:batchY})\n",
    "        print 'Epoch: ',i\n",
    "        print 'avg cost : ',avg_cost/n_batches\n",
    "    "
   ]
  }
 ],
 "metadata": {
  "kernelspec": {
   "display_name": "Python 2",
   "language": "python",
   "name": "python2"
  },
  "language_info": {
   "codemirror_mode": {
    "name": "ipython",
    "version": 2
   },
   "file_extension": ".py",
   "mimetype": "text/x-python",
   "name": "python",
   "nbconvert_exporter": "python",
   "pygments_lexer": "ipython2",
   "version": "2.7.6"
  }
 },
 "nbformat": 4,
 "nbformat_minor": 0
}
