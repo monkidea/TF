{
 "cells": [
  {
   "cell_type": "code",
   "execution_count": 1,
   "metadata": {
    "collapsed": true
   },
   "outputs": [],
   "source": [
    "import tensorflow as tf\n",
    "import numpy as np"
   ]
  },
  {
   "cell_type": "code",
   "execution_count": 8,
   "metadata": {
    "collapsed": false
   },
   "outputs": [],
   "source": [
    "np.random.seed(10)\n",
    "# maximum number of time steps\n",
    "T=8\n",
    "# batch size\n",
    "B = 4\n",
    "rnn_dim = 128\n",
    "num_classes = 10\n",
    "\n",
    "# length of examples in 4 batches\n",
    "example_len = [1,2,3,8]\n",
    "\n",
    "# outputs (random = dummy labels)\n",
    "y = np.random.randint(1,10, [B,T]) # [batch_size x timesteps]\n",
    "for i, length in enumerate(example_len):\n",
    "    y[i, length:] = 0\n",
    "y = y.astype(np.int64)"
   ]
  },
  {
   "cell_type": "code",
   "execution_count": 16,
   "metadata": {
    "collapsed": true
   },
   "outputs": [],
   "source": [
    "tf.reset_default_graph()\n",
    "tf.set_random_seed(10)\n",
    "\n",
    "rnn_outputs = tf.convert_to_tensor(np.random.randn(B,T,rnn_dim), dtype=np.float32)\n",
    "w = tf.get_variable(name='w',\n",
    "                   initializer=tf.random_normal_initializer(),\n",
    "                   shape = [rnn_dim, num_classes])\n"
   ]
  },
  {
   "cell_type": "code",
   "execution_count": 17,
   "metadata": {
    "collapsed": true
   },
   "outputs": [],
   "source": [
    "# flatten rnn_outputs\n",
    "rnn_outputs_flat = tf.reshape(rnn_outputs,[-1, rnn_dim])\n",
    "# flat logits\n",
    "logits_flat = tf.batch_matmul(rnn_outputs_flat,w)\n",
    "# flat probabilities\n",
    "probs_flat = tf.nn.softmax(logits_flat)\n"
   ]
  },
  {
   "cell_type": "code",
   "execution_count": 18,
   "metadata": {
    "collapsed": false
   },
   "outputs": [],
   "source": [
    "# calculate loss\n",
    "#   reshape y placeholder to calc loss\n",
    "y_flat = tf.reshape(y,[-1])\n",
    "losses = tf.nn.sparse_softmax_cross_entropy_with_logits(logits_flat,y_flat)"
   ]
  },
  {
   "cell_type": "code",
   "execution_count": 22,
   "metadata": {
    "collapsed": false
   },
   "outputs": [],
   "source": [
    "# THE MASK.. finally\n",
    "mask = tf.sign(tf.to_float(y_flat))\n",
    "# masked losses\n",
    "masked_losses = mask * losses\n",
    "# now back to normal shape\n",
    "masked_losses = tf.reshape(masked_losses,tf.shape(y))"
   ]
  },
  {
   "cell_type": "code",
   "execution_count": 23,
   "metadata": {
    "collapsed": true
   },
   "outputs": [],
   "source": [
    "# mean loss\n",
    "mean_loss_by_example = tf.reduce_sum(masked_losses, reduction_indices=1)/example_len\n",
    "mean_loss = tf.reduce_mean(mean_loss_by_example)"
   ]
  },
  {
   "cell_type": "code",
   "execution_count": 24,
   "metadata": {
    "collapsed": true
   },
   "outputs": [],
   "source": [
    "results = tf.contrib.learn.run_n({\n",
    "        'masked_losses' : masked_losses,\n",
    "        'mean_loss_by_example' : mean_loss_by_example,\n",
    "        'mean_loss' : mean_loss\n",
    "    })"
   ]
  },
  {
   "cell_type": "code",
   "execution_count": 30,
   "metadata": {
    "collapsed": false
   },
   "outputs": [
    {
     "data": {
      "text/plain": [
       "array([[  7.53408384e+00,   0.00000000e+00,   0.00000000e+00,\n",
       "          0.00000000e+00,   0.00000000e+00,   0.00000000e+00,\n",
       "          0.00000000e+00,   0.00000000e+00],\n",
       "       [  1.45501976e+01,   1.90733044e-05,   0.00000000e+00,\n",
       "          0.00000000e+00,   0.00000000e+00,   0.00000000e+00,\n",
       "          0.00000000e+00,   0.00000000e+00],\n",
       "       [  2.30566845e+01,   1.94982891e+01,   3.09809460e-03,\n",
       "          0.00000000e+00,   0.00000000e+00,   0.00000000e+00,\n",
       "          0.00000000e+00,   0.00000000e+00],\n",
       "       [  1.12082520e+01,   4.99081879e+01,   3.27171707e+01,\n",
       "          5.38984680e+01,   8.67770576e+00,   6.23956108e+00,\n",
       "          1.49090614e+01,   1.77541542e+01]], dtype=float32)"
      ]
     },
     "execution_count": 30,
     "metadata": {},
     "output_type": "execute_result"
    }
   ],
   "source": [
    "results[0]['masked_losses']\n",
    "# yup!!! :)"
   ]
  },
  {
   "cell_type": "code",
   "execution_count": null,
   "metadata": {
    "collapsed": true
   },
   "outputs": [],
   "source": []
  },
  {
   "cell_type": "code",
   "execution_count": null,
   "metadata": {
    "collapsed": true
   },
   "outputs": [],
   "source": []
  },
  {
   "cell_type": "code",
   "execution_count": null,
   "metadata": {
    "collapsed": true
   },
   "outputs": [],
   "source": []
  },
  {
   "cell_type": "code",
   "execution_count": null,
   "metadata": {
    "collapsed": true
   },
   "outputs": [],
   "source": []
  },
  {
   "cell_type": "code",
   "execution_count": null,
   "metadata": {
    "collapsed": true
   },
   "outputs": [],
   "source": []
  }
 ],
 "metadata": {
  "kernelspec": {
   "display_name": "Python 3",
   "language": "python",
   "name": "python3"
  },
  "language_info": {
   "codemirror_mode": {
    "name": "ipython",
    "version": 3
   },
   "file_extension": ".py",
   "mimetype": "text/x-python",
   "name": "python",
   "nbconvert_exporter": "python",
   "pygments_lexer": "ipython3",
   "version": "3.5.2"
  }
 },
 "nbformat": 4,
 "nbformat_minor": 0
}
