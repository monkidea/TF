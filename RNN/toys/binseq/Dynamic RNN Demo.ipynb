{
 "cells": [
  {
   "cell_type": "code",
   "execution_count": 16,
   "metadata": {
    "collapsed": true
   },
   "outputs": [],
   "source": [
    "import numpy as np\n",
    "import tensorflow as tf\n",
    "import data\n",
    "import data_utils\n",
    "import importlib as I"
   ]
  },
  {
   "cell_type": "code",
   "execution_count": null,
   "metadata": {
    "collapsed": false
   },
   "outputs": [],
   "source": [
    "I.reload(data)"
   ]
  },
  {
   "cell_type": "code",
   "execution_count": 25,
   "metadata": {
    "collapsed": false
   },
   "outputs": [],
   "source": [
    "tf.reset_default_graph()\n",
    "\n",
    "\n",
    "# placeholders\n",
    "#x_ = [ tf.placeholder(tf.int64, [None, ], name = 'x_{}'.format(t)) for t in range(seqlen) ]\n",
    "x_ = tf.placeholder(tf.int64, [None, seqlen], name = 'x')\n",
    "y_ = tf.placeholder(tf.int64, [None, ], name = 'y')\n",
    "\n",
    "# one-hot\n",
    "x_onehot = tf.one_hot(x_, num_classes, axis=-1)\n",
    "#rnn_inputs = tf.unpack(x_onehot, axis=1) # unpack along time axis\n",
    "# http://stackoverflow.com/questions/38728501/inputs-not-a-sequence-wth-rnns-and-tensorflow\n",
    "\n",
    "# rnn cell\n",
    "cell = tf.nn.rnn_cell.BasicRNNCell(state_size)\n",
    "rnn_outputs, final_state = tf.nn.dynamic_rnn(cell=cell, inputs=x_onehot, dtype=tf.float32)\n",
    "\n",
    "rnn_outputs = tf.transpose(rnn_outputs, perm=[1,0,2])\n",
    "# parameters for softmax layer\n",
    "W = tf.get_variable('W', [state_size, num_classes])\n",
    "b = tf.get_variable('b', [num_classes],\n",
    "        initializer=tf.constant_initializer(0.0))\n",
    "\n",
    "# output for each time step\n",
    "logits = tf.matmul(rnn_outputs[-1], W) + b\n",
    "#predictions = tf.nn.softmax(logit)\n",
    "\n",
    "# requires unnormalized prob\n",
    "losses = tf.nn.sparse_softmax_cross_entropy_with_logits(logits, y_)\n",
    "loss = tf.reduce_mean(losses)\n",
    "\n",
    "# train op\n",
    "train_op = tf.train.AdagradOptimizer(learning_rate).minimize(loss)\n"
   ]
  },
  {
   "cell_type": "code",
   "execution_count": 28,
   "metadata": {
    "collapsed": false
   },
   "outputs": [
    {
     "data": {
      "text/plain": [
       "TensorShape([Dimension(None), Dimension(20)])"
      ]
     },
     "execution_count": 28,
     "metadata": {},
     "output_type": "execute_result"
    }
   ],
   "source": [
    "logits.get_shape()"
   ]
  },
  {
   "cell_type": "code",
   "execution_count": 13,
   "metadata": {
    "collapsed": true
   },
   "outputs": [],
   "source": [
    "X, Y = data.gen_data()\n",
    "(trainX,trainY), (testX,testY), (validX,validY) = data_utils.split_dataset(X, Y)\n",
    "trainset = data.rand_batch_gen(trainX, trainY, batch_size=32)\n",
    "testset = data.rand_batch_gen(testX, testY, batch_size=16)"
   ]
  },
  {
   "cell_type": "code",
   "execution_count": null,
   "metadata": {
    "collapsed": false
   },
   "outputs": [],
   "source": [
    "a,b = trainset.__next__()\n",
    "a.shape"
   ]
  },
  {
   "cell_type": "code",
   "execution_count": null,
   "metadata": {
    "collapsed": false
   },
   "outputs": [],
   "source": [
    "with tf.Session() as sess:\n",
    "    sess.run(tf.global_variables_initializer())\n",
    "    batchX, batchY = trainset.__next__()\n",
    "    _, lossv = sess.run([train_op, loss], feed_dict = {\n",
    "            x_ : batchX,\n",
    "            y_ : batchY,\n",
    "        })"
   ]
  },
  {
   "cell_type": "code",
   "execution_count": null,
   "metadata": {
    "collapsed": false
   },
   "outputs": [],
   "source": [
    "lossv"
   ]
  },
  {
   "cell_type": "markdown",
   "metadata": {},
   "source": [
    "## Model"
   ]
  },
  {
   "cell_type": "code",
   "execution_count": 29,
   "metadata": {
    "collapsed": false
   },
   "outputs": [
    {
     "data": {
      "text/plain": [
       "<module 'dynamic_rnn' from '/home/suriya/_/tf/TF/RNN/toys/binseq/dynamic_rnn.py'>"
      ]
     },
     "execution_count": 29,
     "metadata": {},
     "output_type": "execute_result"
    }
   ],
   "source": [
    "import dynamic_rnn\n",
    "I.reload(dynamic_rnn)"
   ]
  },
  {
   "cell_type": "code",
   "execution_count": 30,
   "metadata": {
    "collapsed": false
   },
   "outputs": [
    {
     "name": "stdout",
     "output_type": "stream",
     "text": [
      "<log> Building Graph...</log>\n"
     ]
    }
   ],
   "source": [
    "'''\n",
    "seqlen = 20\n",
    "num_classes = 20\n",
    "state_size = 10\n",
    "learning_rate = 0.1\n",
    "'''\n",
    "seqlen = 20\n",
    "num_classes = 20\n",
    "state_size = 10\n",
    "learning_rate = 0.1\n",
    "net = dynamic_rnn.Seq2Vec(seqlen=seqlen, num_classes=num_classes,\n",
    "                          state_size=state_size, epochs=10000,\n",
    "                          learning_rate=learning_rate,\n",
    "                          ckpt_path='ckpt/' )"
   ]
  },
  {
   "cell_type": "code",
   "execution_count": 31,
   "metadata": {
    "collapsed": false
   },
   "outputs": [
    {
     "name": "stdout",
     "output_type": "stream",
     "text": [
      "\n",
      ">> Average train loss : 1.4119086060523987\n",
      "\n",
      ">> Average train loss : 0.7031516264081001\n",
      "\n",
      ">> Average train loss : 0.4727827562987804\n",
      "\n",
      ">> Average train loss : 0.3638667490184307\n",
      "\n",
      ">> Average train loss : 0.3034854677319527\n",
      "\n",
      ">> Interrupted by user at iteration #5501\n"
     ]
    }
   ],
   "source": [
    "sess, step = net.train(trainset)"
   ]
  },
  {
   "cell_type": "code",
   "execution_count": 33,
   "metadata": {
    "collapsed": true
   },
   "outputs": [],
   "source": [
    "batchX, batchY = testset.__next__()\n",
    "op = net.predict(sess, batchX)"
   ]
  },
  {
   "cell_type": "code",
   "execution_count": 35,
   "metadata": {
    "collapsed": false
   },
   "outputs": [
    {
     "data": {
      "text/plain": [
       "(array([ 9, 10, 11,  9,  9, 10, 10, 12,  8, 11, 10, 12, 10, 11,  8,  7]),\n",
       " array([ 9, 10, 11,  9,  9, 10, 10, 12,  8, 11, 10, 12, 10, 11,  8,  7]))"
      ]
     },
     "execution_count": 35,
     "metadata": {},
     "output_type": "execute_result"
    }
   ],
   "source": [
    "batchY, op"
   ]
  },
  {
   "cell_type": "code",
   "execution_count": null,
   "metadata": {
    "collapsed": true
   },
   "outputs": [],
   "source": []
  },
  {
   "cell_type": "code",
   "execution_count": null,
   "metadata": {
    "collapsed": true
   },
   "outputs": [],
   "source": []
  },
  {
   "cell_type": "code",
   "execution_count": null,
   "metadata": {
    "collapsed": true
   },
   "outputs": [],
   "source": []
  },
  {
   "cell_type": "code",
   "execution_count": null,
   "metadata": {
    "collapsed": true
   },
   "outputs": [],
   "source": []
  },
  {
   "cell_type": "code",
   "execution_count": null,
   "metadata": {
    "collapsed": true
   },
   "outputs": [],
   "source": []
  }
 ],
 "metadata": {
  "kernelspec": {
   "display_name": "Python 3",
   "language": "python",
   "name": "python3"
  },
  "language_info": {
   "codemirror_mode": {
    "name": "ipython",
    "version": 3
   },
   "file_extension": ".py",
   "mimetype": "text/x-python",
   "name": "python",
   "nbconvert_exporter": "python",
   "pygments_lexer": "ipython3",
   "version": "3.5.2"
  }
 },
 "nbformat": 4,
 "nbformat_minor": 0
}
