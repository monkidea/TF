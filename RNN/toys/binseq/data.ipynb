{
 "cells": [
  {
   "cell_type": "code",
   "execution_count": 1,
   "metadata": {
    "collapsed": true
   },
   "outputs": [],
   "source": [
    "import numpy as np\n",
    "from random import shuffle"
   ]
  },
  {
   "cell_type": "code",
   "execution_count": 2,
   "metadata": {
    "collapsed": false
   },
   "outputs": [
    {
     "data": {
      "text/plain": [
       "<module 'data' from '/home/suriya/_/tf/TF/RNN/toys/binseq/data.py'>"
      ]
     },
     "execution_count": 2,
     "metadata": {},
     "output_type": "execute_result"
    }
   ],
   "source": [
    "import data\n",
    "import importlib as I\n",
    "I.reload(data)"
   ]
  },
  {
   "cell_type": "code",
   "execution_count": 3,
   "metadata": {
    "collapsed": false
   },
   "outputs": [],
   "source": [
    "X, Y = data.gen_data()"
   ]
  },
  {
   "cell_type": "code",
   "execution_count": null,
   "metadata": {
    "collapsed": false
   },
   "outputs": [],
   "source": [
    "X[0].shape"
   ]
  },
  {
   "cell_type": "code",
   "execution_count": 4,
   "metadata": {
    "collapsed": false
   },
   "outputs": [],
   "source": [
    "import tensorflow as tf"
   ]
  },
  {
   "cell_type": "code",
   "execution_count": 26,
   "metadata": {
    "collapsed": false
   },
   "outputs": [],
   "source": [
    "tf.reset_default_graph()\n",
    "x_ = [ tf.placeholder(shape=[None,], \n",
    "                            dtype=tf.int64, \n",
    "                            name='xi_{}'.format(t)) for t in range(20) ]\n",
    "y_ = [ tf.placeholder(shape=[None,], \n",
    "                            dtype=tf.int64, \n",
    "                            name='yi_{}'.format(t)) for t in range(20) ]\n",
    "x_onehot = [ tf.one_hot(x_i_, 2) for x_i_ in x_ ]\n",
    "init_state = tf.zeros([16, 10])\n",
    "\n",
    "cell = tf.nn.rnn_cell.BasicRNNCell(10)\n",
    "rnn_outputs, final_state = tf.nn.rnn(cell, x_onehot, init_state)\n",
    "\n",
    "# define params\n",
    "W = tf.get_variable('W', [10, 2])\n",
    "b = tf.get_variable('b', [2], initializer=tf.constant_initializer(0.0))\n",
    "\n",
    "# logits\n",
    "logits = [ tf.matmul(rnn_output, W) + b for rnn_output in rnn_outputs ]\n",
    "predictions = [ tf.nn.softmax(logit) for logit in logits ]\n",
    "\n",
    "loss_weights = [ tf.ones_like(y_i_, dtype=tf.float32) for y_i_ in y_ ]\n",
    "losses = tf.nn.seq2seq.sequence_loss_by_example(rnn_outputs, y_, loss_weights)\n",
    "loss = tf.reduce_mean(losses)\n",
    "train_op = tf.train.AdagradOptimizer(learning_rate=0.1).minimize(loss)"
   ]
  },
  {
   "cell_type": "code",
   "execution_count": 38,
   "metadata": {
    "collapsed": true
   },
   "outputs": [],
   "source": [
    "tf.nn.rnn?"
   ]
  },
  {
   "cell_type": "code",
   "execution_count": 27,
   "metadata": {
    "collapsed": true
   },
   "outputs": [],
   "source": [
    "batchX = X[10:10+16].T\n",
    "batchY = Y[10:10+16].T"
   ]
  },
  {
   "cell_type": "code",
   "execution_count": 31,
   "metadata": {
    "collapsed": false
   },
   "outputs": [],
   "source": [
    "with tf.Session() as sess:\n",
    "    sess.run(tf.global_variables_initializer())\n",
    "    train_init_state = np.zeros([16, 10])\n",
    "            \n",
    "    feed_dict = {x_[t]: batchX[t] for t in range(20)}\n",
    "    feed_dict.update({y_[t]: batchY[t] for t in range(20)})\n",
    "    feed_dict.update({init_state : train_init_state})\n",
    "    \n",
    "    _, lossv, preds = sess.run([train_op, loss, predictions], feed_dict = feed_dict)\n",
    "    "
   ]
  },
  {
   "cell_type": "code",
   "execution_count": 36,
   "metadata": {
    "collapsed": false
   },
   "outputs": [
    {
     "data": {
      "text/plain": [
       "array([ 0.59172612,  0.40827385], dtype=float32)"
      ]
     },
     "execution_count": 36,
     "metadata": {},
     "output_type": "execute_result"
    }
   ],
   "source": [
    "preds[0][0]"
   ]
  },
  {
   "cell_type": "code",
   "execution_count": 99,
   "metadata": {
    "collapsed": false
   },
   "outputs": [
    {
     "data": {
      "text/plain": [
       "<module 'data' from '/home/suriya/_/tf/TF/RNN/toys/binseq/data.py'>"
      ]
     },
     "execution_count": 99,
     "metadata": {},
     "output_type": "execute_result"
    }
   ],
   "source": [
    "import model\n",
    "import data\n",
    "import importlib as I\n",
    "I.reload(model)\n",
    "I.reload(data)"
   ]
  },
  {
   "cell_type": "code",
   "execution_count": 100,
   "metadata": {
    "collapsed": false
   },
   "outputs": [
    {
     "name": "stdout",
     "output_type": "stream",
     "text": [
      "<log> Building Graph...</log>\n"
     ]
    }
   ],
   "source": [
    "net = model.VanillaNet(seqlen=X.shape[-1],\n",
    "            num_classes = 2,\n",
    "            state_size = 10,\n",
    "            batch_size = 128,\n",
    "            epochs = 10000,\n",
    "            learning_rate = 0.1,\n",
    "            ckpt_path='ckpt/')"
   ]
  },
  {
   "cell_type": "code",
   "execution_count": 105,
   "metadata": {
    "collapsed": true
   },
   "outputs": [],
   "source": [
    "train_set = data.rand_batch_gen(X, Y, 128)"
   ]
  },
  {
   "cell_type": "code",
   "execution_count": 103,
   "metadata": {
    "collapsed": false
   },
   "outputs": [
    {
     "name": "stdout",
     "output_type": "stream",
     "text": [
      "\n",
      ">> Average train loss : 0.27002930292487143\n",
      "\n",
      ">> Average train loss : 0.16323038280010224\n",
      "\n",
      ">> Average train loss : 0.1539584795832634\n",
      "\n",
      ">> Interrupted by user at iteration #3628\n"
     ]
    }
   ],
   "source": [
    "sess, i = net.train(train_set, sess, i)"
   ]
  },
  {
   "cell_type": "code",
   "execution_count": 106,
   "metadata": {
    "collapsed": false
   },
   "outputs": [],
   "source": [
    "a, b = train_set.__next__()"
   ]
  },
  {
   "cell_type": "code",
   "execution_count": 107,
   "metadata": {
    "collapsed": false
   },
   "outputs": [],
   "source": [
    "preds = net.predict(sess, a)"
   ]
  },
  {
   "cell_type": "code",
   "execution_count": 113,
   "metadata": {
    "collapsed": false
   },
   "outputs": [
    {
     "data": {
      "text/plain": [
       "(array([0, 1, 0, 1, 0, 0, 1, 0, 1, 1, 0, 0, 1, 0, 1, 1, 1, 0, 1, 0]),\n",
       " array([0, 0, 0, 0, 0, 0, 0, 0, 0, 0, 0, 0, 0, 0, 0, 0, 1, 0, 1, 0]),\n",
       " array([0, 0, 0, 0, 0, 0, 0, 0, 0, 0, 0, 0, 0, 0, 0, 0, 1, 1, 1, 0]))"
      ]
     },
     "execution_count": 113,
     "metadata": {},
     "output_type": "execute_result"
    }
   ],
   "source": [
    "a.T[-1], b.T[-1], preds[-1]"
   ]
  },
  {
   "cell_type": "code",
   "execution_count": null,
   "metadata": {
    "collapsed": true
   },
   "outputs": [],
   "source": []
  },
  {
   "cell_type": "code",
   "execution_count": null,
   "metadata": {
    "collapsed": true
   },
   "outputs": [],
   "source": []
  },
  {
   "cell_type": "code",
   "execution_count": null,
   "metadata": {
    "collapsed": true
   },
   "outputs": [],
   "source": []
  },
  {
   "cell_type": "code",
   "execution_count": null,
   "metadata": {
    "collapsed": true
   },
   "outputs": [],
   "source": []
  }
 ],
 "metadata": {
  "kernelspec": {
   "display_name": "Python 3",
   "language": "python",
   "name": "python3"
  },
  "language_info": {
   "codemirror_mode": {
    "name": "ipython",
    "version": 3
   },
   "file_extension": ".py",
   "mimetype": "text/x-python",
   "name": "python",
   "nbconvert_exporter": "python",
   "pygments_lexer": "ipython3",
   "version": "3.5.2"
  }
 },
 "nbformat": 4,
 "nbformat_minor": 0
}
