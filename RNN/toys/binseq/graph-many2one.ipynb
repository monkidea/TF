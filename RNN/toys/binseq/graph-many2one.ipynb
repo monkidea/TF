{
 "cells": [
  {
   "cell_type": "code",
   "execution_count": 1,
   "metadata": {
    "collapsed": true
   },
   "outputs": [],
   "source": [
    "import numpy as np\n",
    "import tensorflow as tf"
   ]
  },
  {
   "cell_type": "code",
   "execution_count": 2,
   "metadata": {
    "collapsed": true
   },
   "outputs": [],
   "source": [
    "import importlib as I\n",
    "import data\n",
    "import model"
   ]
  },
  {
   "cell_type": "code",
   "execution_count": 3,
   "metadata": {
    "collapsed": true
   },
   "outputs": [],
   "source": [
    "X, Y = data.gen_data()"
   ]
  },
  {
   "cell_type": "code",
   "execution_count": 25,
   "metadata": {
    "collapsed": false
   },
   "outputs": [],
   "source": [
    "# graph\n",
    "tf.reset_default_graph()\n",
    "x_ = [ tf.placeholder(shape=[None,], \n",
    "                            dtype=tf.int64, \n",
    "                            name='xi_{}'.format(t)) for t in range(20) ]\n",
    "y_ = tf.placeholder(shape=[None,], dtype=tf.int64, name='y')\n",
    "\n",
    "x_onehot = [ tf.one_hot(x_i_, 2) for x_i_ in x_ ]\n",
    "\n",
    "init_state = tf.zeros([16, 10])\n",
    "\n",
    "cell = tf.nn.rnn_cell.BasicRNNCell(10)\n",
    "rnn_outputs, final_state = tf.nn.rnn(cell, x_onehot, init_state)\n",
    "\n",
    "# define params\n",
    "W = tf.get_variable('W', [10, 20])\n",
    "b = tf.get_variable('b', [20], initializer=tf.constant_initializer(0.0))\n",
    "\n",
    "logits = tf.matmul(rnn_outputs[-1], W) + b\n",
    "#predictions = tf.nn.softmax(logits)\n",
    "\n",
    "losses = tf.nn.sparse_softmax_cross_entropy_with_logits(logits, y_)\n",
    "loss = tf.reduce_mean(losses)\n",
    "train_op = tf.train.AdagradOptimizer(learning_rate=0.1).minimize(loss)\n"
   ]
  },
  {
   "cell_type": "code",
   "execution_count": 21,
   "metadata": {
    "collapsed": true
   },
   "outputs": [],
   "source": [
    "batchX = X[10:10+16].T\n",
    "batchY = Y[10:10+16]"
   ]
  },
  {
   "cell_type": "code",
   "execution_count": 28,
   "metadata": {
    "collapsed": false
   },
   "outputs": [],
   "source": [
    "with tf.Session() as sess:\n",
    "    sess.run(tf.global_variables_initializer())\n",
    "    train_init_state = np.zeros([16, 10])\n",
    "            \n",
    "    feed_dict = {x_[t]: batchX[t] for t in range(20)}\n",
    "    feed_dict.update({ y_ : batchY })\n",
    "    feed_dict.update({init_state : train_init_state})\n",
    "    \n",
    "    _, lossv, predv = sess.run([train_op, loss, logits], feed_dict = feed_dict)\n",
    "    "
   ]
  },
  {
   "cell_type": "code",
   "execution_count": 38,
   "metadata": {
    "collapsed": false
   },
   "outputs": [
    {
     "data": {
      "text/plain": [
       "array([ 0,  0,  0, 15,  0,  0, 15, 15,  0,  0,  0,  0,  0,  0, 15, 15])"
      ]
     },
     "execution_count": 38,
     "metadata": {},
     "output_type": "execute_result"
    }
   ],
   "source": [
    "np.argmax(predv, axis=1)"
   ]
  },
  {
   "cell_type": "code",
   "execution_count": 46,
   "metadata": {
    "collapsed": false
   },
   "outputs": [
    {
     "data": {
      "text/plain": [
       "<module 'model' from '/home/suriya/_/tf/TF/RNN/toys/binseq/model.py'>"
      ]
     },
     "execution_count": 46,
     "metadata": {},
     "output_type": "execute_result"
    }
   ],
   "source": [
    "I.reload(model)"
   ]
  },
  {
   "cell_type": "code",
   "execution_count": 47,
   "metadata": {
    "collapsed": false
   },
   "outputs": [
    {
     "name": "stdout",
     "output_type": "stream",
     "text": [
      "<log> Building Graph...</log>\n"
     ]
    }
   ],
   "source": [
    "net = model.ManyToOne(seqlen = X.shape[-1],\n",
    "               num_classes = 20,\n",
    "               state_size = 5,\n",
    "               ckpt_path = 'ckpt/',\n",
    "               batch_size = 128,\n",
    "               epochs = 10000,\n",
    "               learning_rate = 0.1)"
   ]
  },
  {
   "cell_type": "code",
   "execution_count": 43,
   "metadata": {
    "collapsed": false
   },
   "outputs": [
    {
     "data": {
      "text/plain": [
       "<module 'data' from '/home/suriya/_/tf/TF/RNN/toys/binseq/data.py'>"
      ]
     },
     "execution_count": 43,
     "metadata": {},
     "output_type": "execute_result"
    }
   ],
   "source": [
    "I.reload(data)"
   ]
  },
  {
   "cell_type": "code",
   "execution_count": 44,
   "metadata": {
    "collapsed": true
   },
   "outputs": [],
   "source": [
    "train_set = data.rand_batch_gen(X[:-10000], Y[:-10000], 128)"
   ]
  },
  {
   "cell_type": "code",
   "execution_count": null,
   "metadata": {
    "collapsed": false
   },
   "outputs": [
    {
     "name": "stdout",
     "output_type": "stream",
     "text": [
      "\n",
      ">> Average train loss : 2.207269042134285\n",
      "\n",
      ">> Average train loss : 1.3930207001566888\n"
     ]
    }
   ],
   "source": [
    "sess, step = net.train(train_set)"
   ]
  }
 ],
 "metadata": {
  "kernelspec": {
   "display_name": "Python 3",
   "language": "python",
   "name": "python3"
  },
  "language_info": {
   "codemirror_mode": {
    "name": "ipython",
    "version": 3
   },
   "file_extension": ".py",
   "mimetype": "text/x-python",
   "name": "python",
   "nbconvert_exporter": "python",
   "pygments_lexer": "ipython3",
   "version": "3.5.2"
  }
 },
 "nbformat": 4,
 "nbformat_minor": 0
}
